{
 "cells": [
  {
   "cell_type": "markdown",
   "metadata": {},
   "source": [
    "### Stock Market Prediction And Forecasting Using Stacked LSTM"
   ]
  },
  {
   "cell_type": "code",
   "execution_count": 1,
   "metadata": {},
   "outputs": [],
   "source": [
    "### Keras and Tensorflow >2.0"
   ]
  },
  {
   "cell_type": "code",
   "execution_count": 2,
   "metadata": {},
   "outputs": [],
   "source": [
    "### Data Collection\n",
    "import pandas_datareader as pdr\n",
    "\n",
    "key=\"c6adae03e7c0c3d29db094b0b1d905146d19e13c\""
   ]
  },
  {
   "cell_type": "code",
   "execution_count": 3,
   "metadata": {},
   "outputs": [],
   "source": [
    "df = pdr.get_data_tiingo('AAPL', api_key=key)  # goog"
   ]
  },
  {
   "cell_type": "code",
   "execution_count": 4,
   "metadata": {},
   "outputs": [],
   "source": [
    "df.to_csv('AAPL.csv')"
   ]
  },
  {
   "cell_type": "code",
   "execution_count": 5,
   "metadata": {},
   "outputs": [],
   "source": [
    "import pandas as pd"
   ]
  },
  {
   "cell_type": "code",
   "execution_count": 6,
   "metadata": {},
   "outputs": [],
   "source": [
    "df=pd.read_csv('AAPL.csv')"
   ]
  },
  {
   "cell_type": "code",
   "execution_count": 7,
   "metadata": {},
   "outputs": [
    {
     "data": {
      "text/html": [
       "<div>\n",
       "<style scoped>\n",
       "    .dataframe tbody tr th:only-of-type {\n",
       "        vertical-align: middle;\n",
       "    }\n",
       "\n",
       "    .dataframe tbody tr th {\n",
       "        vertical-align: top;\n",
       "    }\n",
       "\n",
       "    .dataframe thead th {\n",
       "        text-align: right;\n",
       "    }\n",
       "</style>\n",
       "<table border=\"1\" class=\"dataframe\">\n",
       "  <thead>\n",
       "    <tr style=\"text-align: right;\">\n",
       "      <th></th>\n",
       "      <th>symbol</th>\n",
       "      <th>date</th>\n",
       "      <th>close</th>\n",
       "      <th>high</th>\n",
       "      <th>low</th>\n",
       "      <th>open</th>\n",
       "      <th>volume</th>\n",
       "      <th>adjClose</th>\n",
       "      <th>adjHigh</th>\n",
       "      <th>adjLow</th>\n",
       "      <th>adjOpen</th>\n",
       "      <th>adjVolume</th>\n",
       "      <th>divCash</th>\n",
       "      <th>splitFactor</th>\n",
       "    </tr>\n",
       "  </thead>\n",
       "  <tbody>\n",
       "    <tr>\n",
       "      <th>0</th>\n",
       "      <td>AAPL</td>\n",
       "      <td>2017-01-03 00:00:00+00:00</td>\n",
       "      <td>116.15</td>\n",
       "      <td>116.3300</td>\n",
       "      <td>114.76</td>\n",
       "      <td>115.80</td>\n",
       "      <td>28781865</td>\n",
       "      <td>27.329189</td>\n",
       "      <td>27.371541</td>\n",
       "      <td>27.002132</td>\n",
       "      <td>27.246836</td>\n",
       "      <td>115127460</td>\n",
       "      <td>0.0</td>\n",
       "      <td>1.0</td>\n",
       "    </tr>\n",
       "    <tr>\n",
       "      <th>1</th>\n",
       "      <td>AAPL</td>\n",
       "      <td>2017-01-04 00:00:00+00:00</td>\n",
       "      <td>116.02</td>\n",
       "      <td>116.5100</td>\n",
       "      <td>115.75</td>\n",
       "      <td>115.85</td>\n",
       "      <td>21118116</td>\n",
       "      <td>27.298601</td>\n",
       "      <td>27.413894</td>\n",
       "      <td>27.235072</td>\n",
       "      <td>27.258601</td>\n",
       "      <td>84472464</td>\n",
       "      <td>0.0</td>\n",
       "      <td>1.0</td>\n",
       "    </tr>\n",
       "    <tr>\n",
       "      <th>2</th>\n",
       "      <td>AAPL</td>\n",
       "      <td>2017-01-05 00:00:00+00:00</td>\n",
       "      <td>116.61</td>\n",
       "      <td>116.8642</td>\n",
       "      <td>115.81</td>\n",
       "      <td>115.92</td>\n",
       "      <td>22193587</td>\n",
       "      <td>27.437423</td>\n",
       "      <td>27.497234</td>\n",
       "      <td>27.249189</td>\n",
       "      <td>27.275071</td>\n",
       "      <td>88774348</td>\n",
       "      <td>0.0</td>\n",
       "      <td>1.0</td>\n",
       "    </tr>\n",
       "    <tr>\n",
       "      <th>3</th>\n",
       "      <td>AAPL</td>\n",
       "      <td>2017-01-06 00:00:00+00:00</td>\n",
       "      <td>117.91</td>\n",
       "      <td>118.1600</td>\n",
       "      <td>116.47</td>\n",
       "      <td>116.78</td>\n",
       "      <td>31751900</td>\n",
       "      <td>27.743303</td>\n",
       "      <td>27.802126</td>\n",
       "      <td>27.404482</td>\n",
       "      <td>27.477423</td>\n",
       "      <td>127007600</td>\n",
       "      <td>0.0</td>\n",
       "      <td>1.0</td>\n",
       "    </tr>\n",
       "    <tr>\n",
       "      <th>4</th>\n",
       "      <td>AAPL</td>\n",
       "      <td>2017-01-09 00:00:00+00:00</td>\n",
       "      <td>118.99</td>\n",
       "      <td>119.4300</td>\n",
       "      <td>117.94</td>\n",
       "      <td>117.95</td>\n",
       "      <td>33561948</td>\n",
       "      <td>27.997418</td>\n",
       "      <td>28.100947</td>\n",
       "      <td>27.750362</td>\n",
       "      <td>27.752715</td>\n",
       "      <td>134247792</td>\n",
       "      <td>0.0</td>\n",
       "      <td>1.0</td>\n",
       "    </tr>\n",
       "  </tbody>\n",
       "</table>\n",
       "</div>"
      ],
      "text/plain": [
       "  symbol                       date   close      high     low    open  \\\n",
       "0   AAPL  2017-01-03 00:00:00+00:00  116.15  116.3300  114.76  115.80   \n",
       "1   AAPL  2017-01-04 00:00:00+00:00  116.02  116.5100  115.75  115.85   \n",
       "2   AAPL  2017-01-05 00:00:00+00:00  116.61  116.8642  115.81  115.92   \n",
       "3   AAPL  2017-01-06 00:00:00+00:00  117.91  118.1600  116.47  116.78   \n",
       "4   AAPL  2017-01-09 00:00:00+00:00  118.99  119.4300  117.94  117.95   \n",
       "\n",
       "     volume   adjClose    adjHigh     adjLow    adjOpen  adjVolume  divCash  \\\n",
       "0  28781865  27.329189  27.371541  27.002132  27.246836  115127460      0.0   \n",
       "1  21118116  27.298601  27.413894  27.235072  27.258601   84472464      0.0   \n",
       "2  22193587  27.437423  27.497234  27.249189  27.275071   88774348      0.0   \n",
       "3  31751900  27.743303  27.802126  27.404482  27.477423  127007600      0.0   \n",
       "4  33561948  27.997418  28.100947  27.750362  27.752715  134247792      0.0   \n",
       "\n",
       "   splitFactor  \n",
       "0          1.0  \n",
       "1          1.0  \n",
       "2          1.0  \n",
       "3          1.0  \n",
       "4          1.0  "
      ]
     },
     "execution_count": 7,
     "metadata": {},
     "output_type": "execute_result"
    }
   ],
   "source": [
    "df.head()"
   ]
  },
  {
   "cell_type": "code",
   "execution_count": 8,
   "metadata": {},
   "outputs": [
    {
     "data": {
      "text/html": [
       "<div>\n",
       "<style scoped>\n",
       "    .dataframe tbody tr th:only-of-type {\n",
       "        vertical-align: middle;\n",
       "    }\n",
       "\n",
       "    .dataframe tbody tr th {\n",
       "        vertical-align: top;\n",
       "    }\n",
       "\n",
       "    .dataframe thead th {\n",
       "        text-align: right;\n",
       "    }\n",
       "</style>\n",
       "<table border=\"1\" class=\"dataframe\">\n",
       "  <thead>\n",
       "    <tr style=\"text-align: right;\">\n",
       "      <th></th>\n",
       "      <th>symbol</th>\n",
       "      <th>date</th>\n",
       "      <th>close</th>\n",
       "      <th>high</th>\n",
       "      <th>low</th>\n",
       "      <th>open</th>\n",
       "      <th>volume</th>\n",
       "      <th>adjClose</th>\n",
       "      <th>adjHigh</th>\n",
       "      <th>adjLow</th>\n",
       "      <th>adjOpen</th>\n",
       "      <th>adjVolume</th>\n",
       "      <th>divCash</th>\n",
       "      <th>splitFactor</th>\n",
       "    </tr>\n",
       "  </thead>\n",
       "  <tbody>\n",
       "    <tr>\n",
       "      <th>1252</th>\n",
       "      <td>AAPL</td>\n",
       "      <td>2021-12-22 00:00:00+00:00</td>\n",
       "      <td>175.64</td>\n",
       "      <td>175.8600</td>\n",
       "      <td>172.15</td>\n",
       "      <td>173.040</td>\n",
       "      <td>92135303</td>\n",
       "      <td>175.64</td>\n",
       "      <td>175.8600</td>\n",
       "      <td>172.15</td>\n",
       "      <td>173.040</td>\n",
       "      <td>92135303</td>\n",
       "      <td>0.0</td>\n",
       "      <td>1.0</td>\n",
       "    </tr>\n",
       "    <tr>\n",
       "      <th>1253</th>\n",
       "      <td>AAPL</td>\n",
       "      <td>2021-12-23 00:00:00+00:00</td>\n",
       "      <td>176.28</td>\n",
       "      <td>176.8499</td>\n",
       "      <td>175.27</td>\n",
       "      <td>175.850</td>\n",
       "      <td>68356567</td>\n",
       "      <td>176.28</td>\n",
       "      <td>176.8499</td>\n",
       "      <td>175.27</td>\n",
       "      <td>175.850</td>\n",
       "      <td>68356567</td>\n",
       "      <td>0.0</td>\n",
       "      <td>1.0</td>\n",
       "    </tr>\n",
       "    <tr>\n",
       "      <th>1254</th>\n",
       "      <td>AAPL</td>\n",
       "      <td>2021-12-27 00:00:00+00:00</td>\n",
       "      <td>180.33</td>\n",
       "      <td>180.4200</td>\n",
       "      <td>177.07</td>\n",
       "      <td>177.085</td>\n",
       "      <td>74919582</td>\n",
       "      <td>180.33</td>\n",
       "      <td>180.4200</td>\n",
       "      <td>177.07</td>\n",
       "      <td>177.085</td>\n",
       "      <td>74919582</td>\n",
       "      <td>0.0</td>\n",
       "      <td>1.0</td>\n",
       "    </tr>\n",
       "    <tr>\n",
       "      <th>1255</th>\n",
       "      <td>AAPL</td>\n",
       "      <td>2021-12-28 00:00:00+00:00</td>\n",
       "      <td>179.29</td>\n",
       "      <td>181.3300</td>\n",
       "      <td>178.53</td>\n",
       "      <td>180.160</td>\n",
       "      <td>79144339</td>\n",
       "      <td>179.29</td>\n",
       "      <td>181.3300</td>\n",
       "      <td>178.53</td>\n",
       "      <td>180.160</td>\n",
       "      <td>79144339</td>\n",
       "      <td>0.0</td>\n",
       "      <td>1.0</td>\n",
       "    </tr>\n",
       "    <tr>\n",
       "      <th>1256</th>\n",
       "      <td>AAPL</td>\n",
       "      <td>2021-12-29 00:00:00+00:00</td>\n",
       "      <td>179.38</td>\n",
       "      <td>180.6300</td>\n",
       "      <td>178.14</td>\n",
       "      <td>179.330</td>\n",
       "      <td>62348931</td>\n",
       "      <td>179.38</td>\n",
       "      <td>180.6300</td>\n",
       "      <td>178.14</td>\n",
       "      <td>179.330</td>\n",
       "      <td>62348931</td>\n",
       "      <td>0.0</td>\n",
       "      <td>1.0</td>\n",
       "    </tr>\n",
       "  </tbody>\n",
       "</table>\n",
       "</div>"
      ],
      "text/plain": [
       "     symbol                       date   close      high     low     open  \\\n",
       "1252   AAPL  2021-12-22 00:00:00+00:00  175.64  175.8600  172.15  173.040   \n",
       "1253   AAPL  2021-12-23 00:00:00+00:00  176.28  176.8499  175.27  175.850   \n",
       "1254   AAPL  2021-12-27 00:00:00+00:00  180.33  180.4200  177.07  177.085   \n",
       "1255   AAPL  2021-12-28 00:00:00+00:00  179.29  181.3300  178.53  180.160   \n",
       "1256   AAPL  2021-12-29 00:00:00+00:00  179.38  180.6300  178.14  179.330   \n",
       "\n",
       "        volume  adjClose   adjHigh  adjLow  adjOpen  adjVolume  divCash  \\\n",
       "1252  92135303    175.64  175.8600  172.15  173.040   92135303      0.0   \n",
       "1253  68356567    176.28  176.8499  175.27  175.850   68356567      0.0   \n",
       "1254  74919582    180.33  180.4200  177.07  177.085   74919582      0.0   \n",
       "1255  79144339    179.29  181.3300  178.53  180.160   79144339      0.0   \n",
       "1256  62348931    179.38  180.6300  178.14  179.330   62348931      0.0   \n",
       "\n",
       "      splitFactor  \n",
       "1252          1.0  \n",
       "1253          1.0  \n",
       "1254          1.0  \n",
       "1255          1.0  \n",
       "1256          1.0  "
      ]
     },
     "execution_count": 8,
     "metadata": {},
     "output_type": "execute_result"
    }
   ],
   "source": [
    "df.tail()"
   ]
  },
  {
   "cell_type": "code",
   "execution_count": 9,
   "metadata": {},
   "outputs": [],
   "source": [
    "df1=df.reset_index()['close']"
   ]
  },
  {
   "cell_type": "code",
   "execution_count": 10,
   "metadata": {},
   "outputs": [
    {
     "data": {
      "text/plain": [
       "0       116.15\n",
       "1       116.02\n",
       "2       116.61\n",
       "3       117.91\n",
       "4       118.99\n",
       "         ...  \n",
       "1252    175.64\n",
       "1253    176.28\n",
       "1254    180.33\n",
       "1255    179.29\n",
       "1256    179.38\n",
       "Name: close, Length: 1257, dtype: float64"
      ]
     },
     "execution_count": 10,
     "metadata": {},
     "output_type": "execute_result"
    }
   ],
   "source": [
    "df1"
   ]
  },
  {
   "cell_type": "code",
   "execution_count": 11,
   "metadata": {},
   "outputs": [
    {
     "data": {
      "text/plain": [
       "[<matplotlib.lines.Line2D at 0x2123d57fb20>]"
      ]
     },
     "execution_count": 11,
     "metadata": {},
     "output_type": "execute_result"
    },
    {
     "data": {
      "image/png": "[encoded data removed]",
      "text/plain": [
       "<Figure size 432x288 with 1 Axes>"
      ]
     },
     "metadata": {
      "needs_background": "light"
     },
     "output_type": "display_data"
    }
   ],
   "source": [
    "import matplotlib.pyplot as plt\n",
    "plt.plot(df1)"
   ]
  },
  {
   "cell_type": "code",
   "execution_count": 12,
   "metadata": {},
   "outputs": [],
   "source": [
    "### LSTM are sensitive to the scale of the data. so we apply MinMax scaler "
   ]
  },
  {
   "cell_type": "code",
   "execution_count": 13,
   "metadata": {},
   "outputs": [],
   "source": [
    "import numpy as np"
   ]
  },
  {
   "cell_type": "code",
   "execution_count": 14,
   "metadata": {},
   "outputs": [
    {
     "data": {
      "text/plain": [
       "0       116.15\n",
       "1       116.02\n",
       "2       116.61\n",
       "3       117.91\n",
       "4       118.99\n",
       "         ...  \n",
       "1252    175.64\n",
       "1253    176.28\n",
       "1254    180.33\n",
       "1255    179.29\n",
       "1256    179.38\n",
       "Name: close, Length: 1257, dtype: float64"
      ]
     },
     "execution_count": 14,
     "metadata": {},
     "output_type": "execute_result"
    }
   ],
   "source": [
    "df1"
   ]
  },
  {
   "cell_type": "code",
   "execution_count": 15,
   "metadata": {},
   "outputs": [],
   "source": [
    "from sklearn.preprocessing import MinMaxScaler\n",
    "scaler=MinMaxScaler(feature_range=(0,1))\n",
    "df1=scaler.fit_transform(np.array(df1).reshape(-1,1))"
   ]
  },
  {
   "cell_type": "code",
   "execution_count": 16,
   "metadata": {},
   "outputs": [
    {
     "name": "stdout",
     "output_type": "stream",
     "text": [
      "[[0.02331872]\n",
      " [0.02299311]\n",
      " [0.02447088]\n",
      " ...\n",
      " [0.18407013]\n",
      " [0.18146525]\n",
      " [0.18169067]]\n"
     ]
    }
   ],
   "source": [
    "print(df1)"
   ]
  },
  {
   "cell_type": "code",
   "execution_count": 17,
   "metadata": {},
   "outputs": [],
   "source": [
    "##splitting dataset into train and test split\n",
    "training_size=int(len(df1)*0.65)\n",
    "test_size=len(df1)-training_size\n",
    "train_data,test_data=df1[0:training_size,:],df1[training_size:len(df1),:1]"
   ]
  },
  {
   "cell_type": "code",
   "execution_count": 18,
   "metadata": {},
   "outputs": [
    {
     "data": {
      "text/plain": [
       "(817, 440)"
      ]
     },
     "execution_count": 18,
     "metadata": {},
     "output_type": "execute_result"
    }
   ],
   "source": [
    "training_size,test_size"
   ]
  },
  {
   "cell_type": "code",
   "execution_count": 19,
   "metadata": {},
   "outputs": [],
   "source": [
    "#train_data"
   ]
  },
  {
   "cell_type": "code",
   "execution_count": 20,
   "metadata": {},
   "outputs": [],
   "source": [
    "import numpy\n",
    "# convert an array of values into a dataset matrix\n",
    "def create_dataset(dataset, time_step=1):\n",
    "    dataX, dataY = [], []\n",
    "    for i in range(len(dataset)-time_step-1):\n",
    "        a = dataset[i:(i+time_step), 0]   ###i=0, 0,1,2,3-----99   100 \n",
    "        dataX.append(a)\n",
    "        dataY.append(dataset[i + time_step, 0])\n",
    "    return numpy.array(dataX), numpy.array(dataY)"
   ]
  },
  {
   "cell_type": "code",
   "execution_count": 21,
   "metadata": {},
   "outputs": [],
   "source": [
    "# reshape into X=t,t+1,t+2,t+3 and Y=t+4\n",
    "time_step = 100\n",
    "X_train, y_train = create_dataset(train_data, time_step)\n",
    "X_test, ytest = create_dataset(test_data, time_step)"
   ]
  },
  {
   "cell_type": "code",
   "execution_count": 22,
   "metadata": {},
   "outputs": [
    {
     "name": "stdout",
     "output_type": "stream",
     "text": [
      "(716, 100)\n",
      "(716,)\n"
     ]
    }
   ],
   "source": [
    "print(X_train.shape)\n",
    "print(y_train.shape)"
   ]
  },
  {
   "cell_type": "code",
   "execution_count": 23,
   "metadata": {},
   "outputs": [
    {
     "name": "stdout",
     "output_type": "stream",
     "text": [
      "(339, 100)\n",
      "(339,)\n"
     ]
    }
   ],
   "source": [
    "print(X_test.shape)\n",
    "print(ytest.shape)"
   ]
  },
  {
   "cell_type": "code",
   "execution_count": 24,
   "metadata": {},
   "outputs": [],
   "source": [
    "# reshape input to be [samples, time steps, features] which is required for LSTM\n",
    "X_train =X_train.reshape(X_train.shape[0],X_train.shape[1] , 1)\n",
    "X_test = X_test.reshape(X_test.shape[0],X_test.shape[1] , 1)"
   ]
  },
  {
   "cell_type": "code",
   "execution_count": 25,
   "metadata": {},
   "outputs": [],
   "source": [
    "### Create the Stacked LSTM model\n",
    "from tensorflow.keras.models import Sequential\n",
    "from tensorflow.keras.layers import Dense\n",
    "from tensorflow.keras.layers import LSTM"
   ]
  },
  {
   "cell_type": "code",
   "execution_count": 26,
   "metadata": {},
   "outputs": [],
   "source": [
    "model=Sequential()\n",
    "model.add(LSTM(100,return_sequences=True,input_shape=(100,1)))\n",
    "model.add(LSTM(100,return_sequences=True))\n",
    "model.add(LSTM(100))\n",
    "model.add(Dense(1))\n",
    "model.compile(loss='mean_squared_error',optimizer='adam')\n"
   ]
  },
  {
   "cell_type": "code",
   "execution_count": 27,
   "metadata": {},
   "outputs": [
    {
     "name": "stdout",
     "output_type": "stream",
     "text": [
      "Model: \"sequential\"\n",
      "_________________________________________________________________\n",
      " Layer (type)                Output Shape              Param #   \n",
      "=================================================================\n",
      " lstm (LSTM)                 (None, 100, 100)          40800     \n",
      "                                                                 \n",
      " lstm_1 (LSTM)               (None, 100, 100)          80400     \n",
      "                                                                 \n",
      " lstm_2 (LSTM)               (None, 100)               80400     \n",
      "                                                                 \n",
      " dense (Dense)               (None, 1)                 101       \n",
      "                                                                 \n",
      "=================================================================\n",
      "Total params: 201,701\n",
      "Trainable params: 201,701\n",
      "Non-trainable params: 0\n",
      "_________________________________________________________________\n"
     ]
    }
   ],
   "source": [
    "model.summary()"
   ]
  },
  {
   "cell_type": "code",
   "execution_count": 28,
   "metadata": {},
   "outputs": [
    {
     "name": "stdout",
     "output_type": "stream",
     "text": [
      "Model: \"sequential\"\n",
      "_________________________________________________________________\n",
      " Layer (type)                Output Shape              Param #   \n",
      "=================================================================\n",
      " lstm (LSTM)                 (None, 100, 100)          40800     \n",
      "                                                                 \n",
      " lstm_1 (LSTM)               (None, 100, 100)          80400     \n",
      "                                                                 \n",
      " lstm_2 (LSTM)               (None, 100)               80400     \n",
      "                                                                 \n",
      " dense (Dense)               (None, 1)                 101       \n",
      "                                                                 \n",
      "=================================================================\n",
      "Total params: 201,701\n",
      "Trainable params: 201,701\n",
      "Non-trainable params: 0\n",
      "_________________________________________________________________\n"
     ]
    }
   ],
   "source": [
    "model.summary()"
   ]
  },
  {
   "cell_type": "code",
   "execution_count": 29,
   "metadata": {},
   "outputs": [
    {
     "name": "stdout",
     "output_type": "stream",
     "text": [
      "Epoch 1/100\n",
      "12/12 [==============================] - 9s 375ms/step - loss: 0.0122 - val_loss: 0.0183\n",
      "Epoch 2/100\n",
      "12/12 [==============================] - 3s 280ms/step - loss: 0.0020 - val_loss: 0.0168\n",
      "Epoch 3/100\n",
      "12/12 [==============================] - 4s 336ms/step - loss: 9.7058e-04 - val_loss: 0.0222\n",
      "Epoch 4/100\n",
      "12/12 [==============================] - 4s 343ms/step - loss: 8.5268e-04 - val_loss: 0.0174\n",
      "Epoch 5/100\n",
      "12/12 [==============================] - 3s 277ms/step - loss: 6.9004e-04 - val_loss: 0.0167\n",
      "Epoch 6/100\n",
      "12/12 [==============================] - 3s 269ms/step - loss: 6.1887e-04 - val_loss: 0.0150\n",
      "Epoch 7/100\n",
      "12/12 [==============================] - 3s 273ms/step - loss: 6.0323e-04 - val_loss: 0.0158\n",
      "Epoch 8/100\n",
      "12/12 [==============================] - 4s 382ms/step - loss: 5.9396e-04 - val_loss: 0.0120\n",
      "Epoch 9/100\n",
      "12/12 [==============================] - 3s 274ms/step - loss: 7.0962e-04 - val_loss: 0.0161\n",
      "Epoch 10/100\n",
      "12/12 [==============================] - 3s 273ms/step - loss: 6.1130e-04 - val_loss: 0.0121\n",
      "Epoch 11/100\n",
      "12/12 [==============================] - 3s 273ms/step - loss: 5.1809e-04 - val_loss: 0.0128\n",
      "Epoch 12/100\n",
      "12/12 [==============================] - 3s 275ms/step - loss: 4.4126e-04 - val_loss: 0.0132\n",
      "Epoch 13/100\n",
      "12/12 [==============================] - 3s 266ms/step - loss: 3.6889e-04 - val_loss: 0.0136\n",
      "Epoch 14/100\n",
      "12/12 [==============================] - 3s 268ms/step - loss: 3.6157e-04 - val_loss: 0.0135\n",
      "Epoch 15/100\n",
      "12/12 [==============================] - 3s 276ms/step - loss: 3.7385e-04 - val_loss: 0.0131\n",
      "Epoch 16/100\n",
      "12/12 [==============================] - 3s 276ms/step - loss: 3.6354e-04 - val_loss: 0.0122\n",
      "Epoch 17/100\n",
      "12/12 [==============================] - 3s 287ms/step - loss: 3.7033e-04 - val_loss: 0.0123\n",
      "Epoch 18/100\n",
      "12/12 [==============================] - 3s 277ms/step - loss: 3.5285e-04 - val_loss: 0.0124\n",
      "Epoch 19/100\n",
      "12/12 [==============================] - 3s 280ms/step - loss: 3.7758e-04 - val_loss: 0.0118\n",
      "Epoch 20/100\n",
      "12/12 [==============================] - 3s 272ms/step - loss: 3.6942e-04 - val_loss: 0.0106\n",
      "Epoch 21/100\n",
      "12/12 [==============================] - 3s 268ms/step - loss: 4.2969e-04 - val_loss: 0.0120\n",
      "Epoch 22/100\n",
      "12/12 [==============================] - 3s 273ms/step - loss: 3.4309e-04 - val_loss: 0.0112\n",
      "Epoch 23/100\n",
      "12/12 [==============================] - 3s 275ms/step - loss: 3.4615e-04 - val_loss: 0.0108\n",
      "Epoch 24/100\n",
      "12/12 [==============================] - 3s 272ms/step - loss: 3.3383e-04 - val_loss: 0.0104\n",
      "Epoch 25/100\n",
      "12/12 [==============================] - 3s 268ms/step - loss: 3.1920e-04 - val_loss: 0.0111\n",
      "Epoch 26/100\n",
      "12/12 [==============================] - 3s 278ms/step - loss: 3.5323e-04 - val_loss: 0.0107\n",
      "Epoch 27/100\n",
      "12/12 [==============================] - 3s 280ms/step - loss: 3.6969e-04 - val_loss: 0.0105\n",
      "Epoch 28/100\n",
      "12/12 [==============================] - 3s 276ms/step - loss: 3.3015e-04 - val_loss: 0.0103\n",
      "Epoch 29/100\n",
      "12/12 [==============================] - 3s 279ms/step - loss: 3.9247e-04 - val_loss: 0.0095\n",
      "Epoch 30/100\n",
      "12/12 [==============================] - 3s 269ms/step - loss: 3.4927e-04 - val_loss: 0.0110\n",
      "Epoch 31/100\n",
      "12/12 [==============================] - 4s 322ms/step - loss: 3.2028e-04 - val_loss: 0.0101\n",
      "Epoch 32/100\n",
      "12/12 [==============================] - 4s 332ms/step - loss: 3.1879e-04 - val_loss: 0.0098\n",
      "Epoch 33/100\n",
      "12/12 [==============================] - 4s 342ms/step - loss: 3.2879e-04 - val_loss: 0.0093\n",
      "Epoch 34/100\n",
      "12/12 [==============================] - 4s 321ms/step - loss: 3.4856e-04 - val_loss: 0.0078\n",
      "Epoch 35/100\n",
      "12/12 [==============================] - 3s 275ms/step - loss: 4.4041e-04 - val_loss: 0.0094\n",
      "Epoch 36/100\n",
      "12/12 [==============================] - 3s 272ms/step - loss: 3.3375e-04 - val_loss: 0.0105\n",
      "Epoch 37/100\n",
      "12/12 [==============================] - 3s 273ms/step - loss: 3.4422e-04 - val_loss: 0.0085\n",
      "Epoch 38/100\n",
      "12/12 [==============================] - 3s 270ms/step - loss: 3.2573e-04 - val_loss: 0.0090\n",
      "Epoch 39/100\n",
      "12/12 [==============================] - 3s 271ms/step - loss: 3.0769e-04 - val_loss: 0.0090\n",
      "Epoch 40/100\n",
      "12/12 [==============================] - 3s 274ms/step - loss: 2.9737e-04 - val_loss: 0.0084\n",
      "Epoch 41/100\n",
      "12/12 [==============================] - 3s 273ms/step - loss: 2.9398e-04 - val_loss: 0.0095\n",
      "Epoch 42/100\n",
      "12/12 [==============================] - 3s 274ms/step - loss: 2.9429e-04 - val_loss: 0.0079\n",
      "Epoch 43/100\n",
      "12/12 [==============================] - 3s 282ms/step - loss: 3.2080e-04 - val_loss: 0.0089\n",
      "Epoch 44/100\n",
      "12/12 [==============================] - 3s 274ms/step - loss: 3.8761e-04 - val_loss: 0.0087\n",
      "Epoch 45/100\n",
      "12/12 [==============================] - 3s 271ms/step - loss: 2.9693e-04 - val_loss: 0.0074\n",
      "Epoch 46/100\n",
      "12/12 [==============================] - 3s 273ms/step - loss: 3.0310e-04 - val_loss: 0.0078\n",
      "Epoch 47/100\n",
      "12/12 [==============================] - 3s 267ms/step - loss: 2.9371e-04 - val_loss: 0.0072\n",
      "Epoch 48/100\n",
      "12/12 [==============================] - 3s 275ms/step - loss: 2.7881e-04 - val_loss: 0.0076\n",
      "Epoch 49/100\n",
      "12/12 [==============================] - 3s 270ms/step - loss: 2.6834e-04 - val_loss: 0.0067\n",
      "Epoch 50/100\n",
      "12/12 [==============================] - 3s 271ms/step - loss: 3.0597e-04 - val_loss: 0.0081\n",
      "Epoch 51/100\n",
      "12/12 [==============================] - 3s 271ms/step - loss: 3.0377e-04 - val_loss: 0.0064\n",
      "Epoch 52/100\n",
      "12/12 [==============================] - 3s 282ms/step - loss: 2.9250e-04 - val_loss: 0.0072\n",
      "Epoch 53/100\n",
      "12/12 [==============================] - 3s 280ms/step - loss: 2.9696e-04 - val_loss: 0.0071\n",
      "Epoch 54/100\n",
      "12/12 [==============================] - 3s 274ms/step - loss: 2.6615e-04 - val_loss: 0.0069\n",
      "Epoch 55/100\n",
      "12/12 [==============================] - 3s 268ms/step - loss: 2.8267e-04 - val_loss: 0.0064\n",
      "Epoch 56/100\n",
      "12/12 [==============================] - 3s 272ms/step - loss: 2.6859e-04 - val_loss: 0.0066\n",
      "Epoch 57/100\n",
      "12/12 [==============================] - 3s 271ms/step - loss: 2.7406e-04 - val_loss: 0.0064\n",
      "Epoch 58/100\n",
      "12/12 [==============================] - 3s 273ms/step - loss: 2.6236e-04 - val_loss: 0.0063\n",
      "Epoch 59/100\n",
      "12/12 [==============================] - 3s 277ms/step - loss: 2.6353e-04 - val_loss: 0.0066\n",
      "Epoch 60/100\n",
      "12/12 [==============================] - 3s 272ms/step - loss: 2.9734e-04 - val_loss: 0.0067\n",
      "Epoch 61/100\n",
      "12/12 [==============================] - 3s 275ms/step - loss: 3.0793e-04 - val_loss: 0.0056\n",
      "Epoch 62/100\n",
      "12/12 [==============================] - 3s 268ms/step - loss: 2.8317e-04 - val_loss: 0.0062\n",
      "Epoch 63/100\n",
      "12/12 [==============================] - 3s 265ms/step - loss: 2.3823e-04 - val_loss: 0.0052\n",
      "Epoch 64/100\n",
      "12/12 [==============================] - 3s 269ms/step - loss: 3.8702e-04 - val_loss: 0.0057\n",
      "Epoch 65/100\n",
      "12/12 [==============================] - 3s 272ms/step - loss: 2.7066e-04 - val_loss: 0.0060\n",
      "Epoch 66/100\n",
      "12/12 [==============================] - 3s 272ms/step - loss: 2.3772e-04 - val_loss: 0.0052\n",
      "Epoch 67/100\n",
      "12/12 [==============================] - 3s 284ms/step - loss: 2.3656e-04 - val_loss: 0.0052\n",
      "Epoch 68/100\n",
      "12/12 [==============================] - 3s 266ms/step - loss: 2.8795e-04 - val_loss: 0.0057\n",
      "Epoch 69/100\n",
      "12/12 [==============================] - 3s 278ms/step - loss: 3.2085e-04 - val_loss: 0.0053\n",
      "Epoch 70/100\n",
      "12/12 [==============================] - 3s 276ms/step - loss: 2.3158e-04 - val_loss: 0.0048\n",
      "Epoch 71/100\n",
      "12/12 [==============================] - 3s 271ms/step - loss: 2.4302e-04 - val_loss: 0.0054\n",
      "Epoch 72/100\n",
      "12/12 [==============================] - 3s 270ms/step - loss: 2.7231e-04 - val_loss: 0.0045\n",
      "Epoch 73/100\n",
      "12/12 [==============================] - 4s 315ms/step - loss: 2.2996e-04 - val_loss: 0.0048\n",
      "Epoch 74/100\n",
      "12/12 [==============================] - 3s 271ms/step - loss: 2.1746e-04 - val_loss: 0.0045\n",
      "Epoch 75/100\n",
      "12/12 [==============================] - 3s 279ms/step - loss: 2.1432e-04 - val_loss: 0.0048\n",
      "Epoch 76/100\n",
      "12/12 [==============================] - 3s 276ms/step - loss: 2.3073e-04 - val_loss: 0.0046\n",
      "Epoch 77/100\n",
      "12/12 [==============================] - 3s 269ms/step - loss: 2.4382e-04 - val_loss: 0.0044\n",
      "Epoch 78/100\n",
      "12/12 [==============================] - 3s 272ms/step - loss: 2.4513e-04 - val_loss: 0.0045\n",
      "Epoch 79/100\n",
      "12/12 [==============================] - 3s 275ms/step - loss: 2.1873e-04 - val_loss: 0.0042\n",
      "Epoch 80/100\n",
      "12/12 [==============================] - 3s 273ms/step - loss: 2.0540e-04 - val_loss: 0.0039\n",
      "Epoch 81/100\n",
      "12/12 [==============================] - 3s 268ms/step - loss: 2.4802e-04 - val_loss: 0.0041\n",
      "Epoch 82/100\n",
      "12/12 [==============================] - 3s 269ms/step - loss: 2.3116e-04 - val_loss: 0.0037\n",
      "Epoch 83/100\n",
      "12/12 [==============================] - 3s 268ms/step - loss: 2.1887e-04 - val_loss: 0.0038\n",
      "Epoch 84/100\n",
      "12/12 [==============================] - 3s 270ms/step - loss: 1.9332e-04 - val_loss: 0.0040\n",
      "Epoch 85/100\n",
      "12/12 [==============================] - 3s 269ms/step - loss: 2.4387e-04 - val_loss: 0.0042\n",
      "Epoch 86/100\n",
      "12/12 [==============================] - 5s 391ms/step - loss: 3.4755e-04 - val_loss: 0.0032\n",
      "Epoch 87/100\n",
      "12/12 [==============================] - 4s 330ms/step - loss: 2.5550e-04 - val_loss: 0.0037\n",
      "Epoch 88/100\n",
      "12/12 [==============================] - 6s 431ms/step - loss: 1.9217e-04 - val_loss: 0.0033\n",
      "Epoch 89/100\n",
      "12/12 [==============================] - 4s 311ms/step - loss: 2.1092e-04 - val_loss: 0.0033\n",
      "Epoch 90/100\n",
      "12/12 [==============================] - 4s 298ms/step - loss: 2.2363e-04 - val_loss: 0.0036\n",
      "Epoch 91/100\n",
      "12/12 [==============================] - 4s 300ms/step - loss: 2.0051e-04 - val_loss: 0.0033\n",
      "Epoch 92/100\n",
      "12/12 [==============================] - 4s 296ms/step - loss: 2.0221e-04 - val_loss: 0.0034\n",
      "Epoch 93/100\n",
      "12/12 [==============================] - 3s 293ms/step - loss: 1.8472e-04 - val_loss: 0.0030\n",
      "Epoch 94/100\n",
      "12/12 [==============================] - 4s 299ms/step - loss: 2.0539e-04 - val_loss: 0.0035\n",
      "Epoch 95/100\n",
      "12/12 [==============================] - 4s 294ms/step - loss: 2.0859e-04 - val_loss: 0.0035\n",
      "Epoch 96/100\n",
      "12/12 [==============================] - 3s 293ms/step - loss: 2.5773e-04 - val_loss: 0.0030\n",
      "Epoch 97/100\n",
      "12/12 [==============================] - 4s 297ms/step - loss: 1.8534e-04 - val_loss: 0.0030\n",
      "Epoch 98/100\n",
      "12/12 [==============================] - 4s 292ms/step - loss: 1.7958e-04 - val_loss: 0.0028\n",
      "Epoch 99/100\n",
      "12/12 [==============================] - 3s 296ms/step - loss: 2.4080e-04 - val_loss: 0.0032\n",
      "Epoch 100/100\n",
      "12/12 [==============================] - 4s 296ms/step - loss: 1.9848e-04 - val_loss: 0.0028\n"
     ]
    },
    {
     "data": {
      "text/plain": [
       "<keras.callbacks.History at 0x2124dea67f0>"
      ]
     },
     "execution_count": 29,
     "metadata": {},
     "output_type": "execute_result"
    }
   ],
   "source": [
    "model.fit(X_train,y_train,validation_data=(X_test,ytest),epochs=100,batch_size=64,verbose=1)"
   ]
  },
  {
   "cell_type": "code",
   "execution_count": 30,
   "metadata": {},
   "outputs": [],
   "source": [
    "import tensorflow as tf"
   ]
  },
  {
   "cell_type": "code",
   "execution_count": 32,
   "metadata": {},
   "outputs": [],
   "source": [
    "### Lets Do the prediction and check performance metrics\n",
    "train_predict=model.predict(X_train)\n",
    "test_predict=model.predict(X_test)"
   ]
  },
  {
   "cell_type": "code",
   "execution_count": 33,
   "metadata": {},
   "outputs": [],
   "source": [
    "##Transformback to original form reverse scaling of data  \n",
    "train_predict=scaler.inverse_transform(train_predict)\n",
    "test_predict=scaler.inverse_transform(test_predict)"
   ]
  },
  {
   "cell_type": "code",
   "execution_count": 34,
   "metadata": {},
   "outputs": [
    {
     "data": {
      "text/plain": [
       "201.78475574533525"
      ]
     },
     "execution_count": 34,
     "metadata": {},
     "output_type": "execute_result"
    }
   ],
   "source": [
    "### Calculate RMSE performance metrics\n",
    "import math\n",
    "from sklearn.metrics import mean_squared_error\n",
    "math.sqrt(mean_squared_error(y_train,train_predict))"
   ]
  },
  {
   "cell_type": "code",
   "execution_count": 35,
   "metadata": {},
   "outputs": [
    {
     "data": {
      "text/plain": [
       "147.7114581710783"
      ]
     },
     "execution_count": 35,
     "metadata": {},
     "output_type": "execute_result"
    }
   ],
   "source": [
    "### Test Data RMSE\n",
    "math.sqrt(mean_squared_error(ytest,test_predict))"
   ]
  },
  {
   "cell_type": "code",
   "execution_count": 36,
   "metadata": {},
   "outputs": [
    {
     "data": {
      "image/png": "[encoded data removed]",
      "text/plain": [
       "<Figure size 432x288 with 1 Axes>"
      ]
     },
     "metadata": {
      "needs_background": "light"
     },
     "output_type": "display_data"
    }
   ],
   "source": [
    "### Plotting \n",
    "# shift train predictions for plotting\n",
    "look_back=100\n",
    "trainPredictPlot = numpy.empty_like(df1)\n",
    "trainPredictPlot[:, :] = np.nan\n",
    "trainPredictPlot[look_back:len(train_predict)+look_back, :] = train_predict\n",
    "# shift test predictions for plotting\n",
    "testPredictPlot = numpy.empty_like(df1)\n",
    "testPredictPlot[:, :] = numpy.nan\n",
    "testPredictPlot[len(train_predict)+(look_back*2)+1:len(df1)-1, :] = test_predict\n",
    "# plot baseline and predictions\n",
    "plt.plot(scaler.inverse_transform(df1))\n",
    "plt.plot(trainPredictPlot)\n",
    "plt.plot(testPredictPlot)\n",
    "plt.show()"
   ]
  },
  {
   "cell_type": "code",
   "execution_count": 37,
   "metadata": {},
   "outputs": [
    {
     "data": {
      "text/plain": [
       "440"
      ]
     },
     "execution_count": 37,
     "metadata": {},
     "output_type": "execute_result"
    }
   ],
   "source": [
    "len(test_data)"
   ]
  },
  {
   "cell_type": "code",
   "execution_count": 38,
   "metadata": {},
   "outputs": [
    {
     "data": {
      "text/plain": [
       "(1, 100)"
      ]
     },
     "execution_count": 38,
     "metadata": {},
     "output_type": "execute_result"
    }
   ],
   "source": [
    "# next day prediction consider 100 days data\n",
    "x_input=test_data[340:].reshape(1,-1)\n",
    "x_input.shape\n"
   ]
  },
  {
   "cell_type": "code",
   "execution_count": null,
   "metadata": {},
   "outputs": [],
   "source": []
  },
  {
   "cell_type": "code",
   "execution_count": null,
   "metadata": {},
   "outputs": [],
   "source": []
  },
  {
   "cell_type": "code",
   "execution_count": 39,
   "metadata": {},
   "outputs": [],
   "source": [
    "temp_input=list(x_input)\n",
    "temp_input=temp_input[0].tolist()"
   ]
  },
  {
   "cell_type": "code",
   "execution_count": 40,
   "metadata": {},
   "outputs": [
    {
     "name": "stdout",
     "output_type": "stream",
     "text": [
      "[0.18067473]\n",
      "101\n",
      "1 day input [0.09708203 0.09773325 0.10532248 0.10584847 0.11090795 0.10857858\n",
      " 0.0989856  0.09983719 0.10356919 0.10737633 0.10715091 0.10399499\n",
      " 0.10194114 0.10459612 0.11591735 0.11268629 0.11438948 0.11724483\n",
      " 0.11887289 0.12485911 0.12090169 0.11829681 0.10552286 0.10697558\n",
      " 0.10339386 0.10567314 0.10507201 0.09823419 0.09041954 0.09164684\n",
      " 0.0977082  0.10016281 0.10038823 0.09650595 0.0878397  0.09014402\n",
      " 0.08681277 0.08969317 0.08090169 0.08583594 0.08806512 0.09129618\n",
      " 0.09031935 0.09009393 0.08683782 0.085335   0.09247339 0.09517846\n",
      " 0.09946149 0.10499687 0.10624922 0.10680025 0.10482154 0.10469631\n",
      " 0.1063995  0.10522229 0.11453976 0.10760175 0.10549781 0.10815279\n",
      " 0.11183469 0.1105072  0.1113087  0.10920476 0.1101315  0.10289292\n",
      " 0.10276769 0.10807765 0.10810269 0.11060739 0.11684408 0.12781465\n",
      " 0.13452724 0.13570445 0.13668128 0.13800877 0.12515967 0.13375078\n",
      " 0.14642455 0.14509706 0.14256731 0.1377583  0.14647464 0.16115216\n",
      " 0.17092048 0.16961803 0.181866   0.17257358 0.16904195 0.18149029\n",
      " 0.16385723 0.16105197 0.15757044 0.16568566 0.17232311 0.17392611\n",
      " 0.18407013 0.18146525 0.18169067 0.18067473]\n",
      "1 day output [[0.1823384]]\n",
      "2 day input [0.09773325 0.10532248 0.10584847 0.11090795 0.10857858 0.0989856\n",
      " 0.09983719 0.10356919 0.10737633 0.10715091 0.10399499 0.10194114\n",
      " 0.10459612 0.11591735 0.11268629 0.11438948 0.11724483 0.11887289\n",
      " 0.12485911 0.12090169 0.11829681 0.10552286 0.10697558 0.10339386\n",
      " 0.10567314 0.10507201 0.09823419 0.09041954 0.09164684 0.0977082\n",
      " 0.10016281 0.10038823 0.09650595 0.0878397  0.09014402 0.08681277\n",
      " 0.08969317 0.08090169 0.08583594 0.08806512 0.09129618 0.09031935\n",
      " 0.09009393 0.08683782 0.085335   0.09247339 0.09517846 0.09946149\n",
      " 0.10499687 0.10624922 0.10680025 0.10482154 0.10469631 0.1063995\n",
      " 0.10522229 0.11453976 0.10760175 0.10549781 0.10815279 0.11183469\n",
      " 0.1105072  0.1113087  0.10920476 0.1101315  0.10289292 0.10276769\n",
      " 0.10807765 0.10810269 0.11060739 0.11684408 0.12781465 0.13452724\n",
      " 0.13570445 0.13668128 0.13800877 0.12515967 0.13375078 0.14642455\n",
      " 0.14509706 0.14256731 0.1377583  0.14647464 0.16115216 0.17092048\n",
      " 0.16961803 0.181866   0.17257358 0.16904195 0.18149029 0.16385723\n",
      " 0.16105197 0.15757044 0.16568566 0.17232311 0.17392611 0.18407013\n",
      " 0.18146525 0.18169067 0.18067473 0.1823384 ]\n",
      "2 day output [[0.1828343]]\n",
      "3 day input [0.10532248 0.10584847 0.11090795 0.10857858 0.0989856  0.09983719\n",
      " 0.10356919 0.10737633 0.10715091 0.10399499 0.10194114 0.10459612\n",
      " 0.11591735 0.11268629 0.11438948 0.11724483 0.11887289 0.12485911\n",
      " 0.12090169 0.11829681 0.10552286 0.10697558 0.10339386 0.10567314\n",
      " 0.10507201 0.09823419 0.09041954 0.09164684 0.0977082  0.10016281\n",
      " 0.10038823 0.09650595 0.0878397  0.09014402 0.08681277 0.08969317\n",
      " 0.08090169 0.08583594 0.08806512 0.09129618 0.09031935 0.09009393\n",
      " 0.08683782 0.085335   0.09247339 0.09517846 0.09946149 0.10499687\n",
      " 0.10624922 0.10680025 0.10482154 0.10469631 0.1063995  0.10522229\n",
      " 0.11453976 0.10760175 0.10549781 0.10815279 0.11183469 0.1105072\n",
      " 0.1113087  0.10920476 0.1101315  0.10289292 0.10276769 0.10807765\n",
      " 0.10810269 0.11060739 0.11684408 0.12781465 0.13452724 0.13570445\n",
      " 0.13668128 0.13800877 0.12515967 0.13375078 0.14642455 0.14509706\n",
      " 0.14256731 0.1377583  0.14647464 0.16115216 0.17092048 0.16961803\n",
      " 0.181866   0.17257358 0.16904195 0.18149029 0.16385723 0.16105197\n",
      " 0.15757044 0.16568566 0.17232311 0.17392611 0.18407013 0.18146525\n",
      " 0.18169067 0.18067473 0.1823384  0.1828343 ]\n",
      "3 day output [[0.18278977]]\n",
      "4 day input [0.10584847 0.11090795 0.10857858 0.0989856  0.09983719 0.10356919\n",
      " 0.10737633 0.10715091 0.10399499 0.10194114 0.10459612 0.11591735\n",
      " 0.11268629 0.11438948 0.11724483 0.11887289 0.12485911 0.12090169\n",
      " 0.11829681 0.10552286 0.10697558 0.10339386 0.10567314 0.10507201\n",
      " 0.09823419 0.09041954 0.09164684 0.0977082  0.10016281 0.10038823\n",
      " 0.09650595 0.0878397  0.09014402 0.08681277 0.08969317 0.08090169\n",
      " 0.08583594 0.08806512 0.09129618 0.09031935 0.09009393 0.08683782\n",
      " 0.085335   0.09247339 0.09517846 0.09946149 0.10499687 0.10624922\n",
      " 0.10680025 0.10482154 0.10469631 0.1063995  0.10522229 0.11453976\n",
      " 0.10760175 0.10549781 0.10815279 0.11183469 0.1105072  0.1113087\n",
      " 0.10920476 0.1101315  0.10289292 0.10276769 0.10807765 0.10810269\n",
      " 0.11060739 0.11684408 0.12781465 0.13452724 0.13570445 0.13668128\n",
      " 0.13800877 0.12515967 0.13375078 0.14642455 0.14509706 0.14256731\n",
      " 0.1377583  0.14647464 0.16115216 0.17092048 0.16961803 0.181866\n",
      " 0.17257358 0.16904195 0.18149029 0.16385723 0.16105197 0.15757044\n",
      " 0.16568566 0.17232311 0.17392611 0.18407013 0.18146525 0.18169067\n",
      " 0.18067473 0.1823384  0.1828343  0.18278977]\n",
      "4 day output [[0.18252057]]\n",
      "5 day input [0.11090795 0.10857858 0.0989856  0.09983719 0.10356919 0.10737633\n",
      " 0.10715091 0.10399499 0.10194114 0.10459612 0.11591735 0.11268629\n",
      " 0.11438948 0.11724483 0.11887289 0.12485911 0.12090169 0.11829681\n",
      " 0.10552286 0.10697558 0.10339386 0.10567314 0.10507201 0.09823419\n",
      " 0.09041954 0.09164684 0.0977082  0.10016281 0.10038823 0.09650595\n",
      " 0.0878397  0.09014402 0.08681277 0.08969317 0.08090169 0.08583594\n",
      " 0.08806512 0.09129618 0.09031935 0.09009393 0.08683782 0.085335\n",
      " 0.09247339 0.09517846 0.09946149 0.10499687 0.10624922 0.10680025\n",
      " 0.10482154 0.10469631 0.1063995  0.10522229 0.11453976 0.10760175\n",
      " 0.10549781 0.10815279 0.11183469 0.1105072  0.1113087  0.10920476\n",
      " 0.1101315  0.10289292 0.10276769 0.10807765 0.10810269 0.11060739\n",
      " 0.11684408 0.12781465 0.13452724 0.13570445 0.13668128 0.13800877\n",
      " 0.12515967 0.13375078 0.14642455 0.14509706 0.14256731 0.1377583\n",
      " 0.14647464 0.16115216 0.17092048 0.16961803 0.181866   0.17257358\n",
      " 0.16904195 0.18149029 0.16385723 0.16105197 0.15757044 0.16568566\n",
      " 0.17232311 0.17392611 0.18407013 0.18146525 0.18169067 0.18067473\n",
      " 0.1823384  0.1828343  0.18278977 0.18252057]\n",
      "5 day output [[0.18216453]]\n",
      "6 day input [0.10857858 0.0989856  0.09983719 0.10356919 0.10737633 0.10715091\n",
      " 0.10399499 0.10194114 0.10459612 0.11591735 0.11268629 0.11438948\n",
      " 0.11724483 0.11887289 0.12485911 0.12090169 0.11829681 0.10552286\n",
      " 0.10697558 0.10339386 0.10567314 0.10507201 0.09823419 0.09041954\n",
      " 0.09164684 0.0977082  0.10016281 0.10038823 0.09650595 0.0878397\n",
      " 0.09014402 0.08681277 0.08969317 0.08090169 0.08583594 0.08806512\n",
      " 0.09129618 0.09031935 0.09009393 0.08683782 0.085335   0.09247339\n",
      " 0.09517846 0.09946149 0.10499687 0.10624922 0.10680025 0.10482154\n",
      " 0.10469631 0.1063995  0.10522229 0.11453976 0.10760175 0.10549781\n",
      " 0.10815279 0.11183469 0.1105072  0.1113087  0.10920476 0.1101315\n",
      " 0.10289292 0.10276769 0.10807765 0.10810269 0.11060739 0.11684408\n",
      " 0.12781465 0.13452724 0.13570445 0.13668128 0.13800877 0.12515967\n",
      " 0.13375078 0.14642455 0.14509706 0.14256731 0.1377583  0.14647464\n",
      " 0.16115216 0.17092048 0.16961803 0.181866   0.17257358 0.16904195\n",
      " 0.18149029 0.16385723 0.16105197 0.15757044 0.16568566 0.17232311\n",
      " 0.17392611 0.18407013 0.18146525 0.18169067 0.18067473 0.1823384\n",
      " 0.1828343  0.18278977 0.18252057 0.18216453]\n",
      "6 day output [[0.18178533]]\n",
      "7 day input [0.0989856  0.09983719 0.10356919 0.10737633 0.10715091 0.10399499\n",
      " 0.10194114 0.10459612 0.11591735 0.11268629 0.11438948 0.11724483\n",
      " 0.11887289 0.12485911 0.12090169 0.11829681 0.10552286 0.10697558\n",
      " 0.10339386 0.10567314 0.10507201 0.09823419 0.09041954 0.09164684\n",
      " 0.0977082  0.10016281 0.10038823 0.09650595 0.0878397  0.09014402\n",
      " 0.08681277 0.08969317 0.08090169 0.08583594 0.08806512 0.09129618\n",
      " 0.09031935 0.09009393 0.08683782 0.085335   0.09247339 0.09517846\n",
      " 0.09946149 0.10499687 0.10624922 0.10680025 0.10482154 0.10469631\n",
      " 0.1063995  0.10522229 0.11453976 0.10760175 0.10549781 0.10815279\n",
      " 0.11183469 0.1105072  0.1113087  0.10920476 0.1101315  0.10289292\n",
      " 0.10276769 0.10807765 0.10810269 0.11060739 0.11684408 0.12781465\n",
      " 0.13452724 0.13570445 0.13668128 0.13800877 0.12515967 0.13375078\n",
      " 0.14642455 0.14509706 0.14256731 0.1377583  0.14647464 0.16115216\n",
      " 0.17092048 0.16961803 0.181866   0.17257358 0.16904195 0.18149029\n",
      " 0.16385723 0.16105197 0.15757044 0.16568566 0.17232311 0.17392611\n",
      " 0.18407013 0.18146525 0.18169067 0.18067473 0.1823384  0.1828343\n",
      " 0.18278977 0.18252057 0.18216453 0.18178533]\n",
      "7 day output [[0.18141937]]\n",
      "8 day input [0.09983719 0.10356919 0.10737633 0.10715091 0.10399499 0.10194114\n",
      " 0.10459612 0.11591735 0.11268629 0.11438948 0.11724483 0.11887289\n",
      " 0.12485911 0.12090169 0.11829681 0.10552286 0.10697558 0.10339386\n",
      " 0.10567314 0.10507201 0.09823419 0.09041954 0.09164684 0.0977082\n",
      " 0.10016281 0.10038823 0.09650595 0.0878397  0.09014402 0.08681277\n",
      " 0.08969317 0.08090169 0.08583594 0.08806512 0.09129618 0.09031935\n",
      " 0.09009393 0.08683782 0.085335   0.09247339 0.09517846 0.09946149\n",
      " 0.10499687 0.10624922 0.10680025 0.10482154 0.10469631 0.1063995\n",
      " 0.10522229 0.11453976 0.10760175 0.10549781 0.10815279 0.11183469\n",
      " 0.1105072  0.1113087  0.10920476 0.1101315  0.10289292 0.10276769\n",
      " 0.10807765 0.10810269 0.11060739 0.11684408 0.12781465 0.13452724\n",
      " 0.13570445 0.13668128 0.13800877 0.12515967 0.13375078 0.14642455\n",
      " 0.14509706 0.14256731 0.1377583  0.14647464 0.16115216 0.17092048\n",
      " 0.16961803 0.181866   0.17257358 0.16904195 0.18149029 0.16385723\n",
      " 0.16105197 0.15757044 0.16568566 0.17232311 0.17392611 0.18407013\n",
      " 0.18146525 0.18169067 0.18067473 0.1823384  0.1828343  0.18278977\n",
      " 0.18252057 0.18216453 0.18178533 0.18141937]\n",
      "8 day output [[0.18109013]]\n",
      "9 day input [0.10356919 0.10737633 0.10715091 0.10399499 0.10194114 0.10459612\n",
      " 0.11591735 0.11268629 0.11438948 0.11724483 0.11887289 0.12485911\n",
      " 0.12090169 0.11829681 0.10552286 0.10697558 0.10339386 0.10567314\n",
      " 0.10507201 0.09823419 0.09041954 0.09164684 0.0977082  0.10016281\n",
      " 0.10038823 0.09650595 0.0878397  0.09014402 0.08681277 0.08969317\n",
      " 0.08090169 0.08583594 0.08806512 0.09129618 0.09031935 0.09009393\n",
      " 0.08683782 0.085335   0.09247339 0.09517846 0.09946149 0.10499687\n",
      " 0.10624922 0.10680025 0.10482154 0.10469631 0.1063995  0.10522229\n",
      " 0.11453976 0.10760175 0.10549781 0.10815279 0.11183469 0.1105072\n",
      " 0.1113087  0.10920476 0.1101315  0.10289292 0.10276769 0.10807765\n",
      " 0.10810269 0.11060739 0.11684408 0.12781465 0.13452724 0.13570445\n",
      " 0.13668128 0.13800877 0.12515967 0.13375078 0.14642455 0.14509706\n",
      " 0.14256731 0.1377583  0.14647464 0.16115216 0.17092048 0.16961803\n",
      " 0.181866   0.17257358 0.16904195 0.18149029 0.16385723 0.16105197\n",
      " 0.15757044 0.16568566 0.17232311 0.17392611 0.18407013 0.18146525\n",
      " 0.18169067 0.18067473 0.1823384  0.1828343  0.18278977 0.18252057\n",
      " 0.18216453 0.18178533 0.18141937 0.18109013]\n",
      "9 day output [[0.18081121]]\n",
      "10 day input [0.10737633 0.10715091 0.10399499 0.10194114 0.10459612 0.11591735\n",
      " 0.11268629 0.11438948 0.11724483 0.11887289 0.12485911 0.12090169\n",
      " 0.11829681 0.10552286 0.10697558 0.10339386 0.10567314 0.10507201\n",
      " 0.09823419 0.09041954 0.09164684 0.0977082  0.10016281 0.10038823\n",
      " 0.09650595 0.0878397  0.09014402 0.08681277 0.08969317 0.08090169\n",
      " 0.08583594 0.08806512 0.09129618 0.09031935 0.09009393 0.08683782\n",
      " 0.085335   0.09247339 0.09517846 0.09946149 0.10499687 0.10624922\n",
      " 0.10680025 0.10482154 0.10469631 0.1063995  0.10522229 0.11453976\n",
      " 0.10760175 0.10549781 0.10815279 0.11183469 0.1105072  0.1113087\n",
      " 0.10920476 0.1101315  0.10289292 0.10276769 0.10807765 0.10810269\n",
      " 0.11060739 0.11684408 0.12781465 0.13452724 0.13570445 0.13668128\n",
      " 0.13800877 0.12515967 0.13375078 0.14642455 0.14509706 0.14256731\n",
      " 0.1377583  0.14647464 0.16115216 0.17092048 0.16961803 0.181866\n",
      " 0.17257358 0.16904195 0.18149029 0.16385723 0.16105197 0.15757044\n",
      " 0.16568566 0.17232311 0.17392611 0.18407013 0.18146525 0.18169067\n",
      " 0.18067473 0.1823384  0.1828343  0.18278977 0.18252057 0.18216453\n",
      " 0.18178533 0.18141937 0.18109013 0.18081121]\n",
      "10 day output [[0.18058747]]\n",
      "11 day input [0.10715091 0.10399499 0.10194114 0.10459612 0.11591735 0.11268629\n",
      " 0.11438948 0.11724483 0.11887289 0.12485911 0.12090169 0.11829681\n",
      " 0.10552286 0.10697558 0.10339386 0.10567314 0.10507201 0.09823419\n",
      " 0.09041954 0.09164684 0.0977082  0.10016281 0.10038823 0.09650595\n",
      " 0.0878397  0.09014402 0.08681277 0.08969317 0.08090169 0.08583594\n",
      " 0.08806512 0.09129618 0.09031935 0.09009393 0.08683782 0.085335\n",
      " 0.09247339 0.09517846 0.09946149 0.10499687 0.10624922 0.10680025\n",
      " 0.10482154 0.10469631 0.1063995  0.10522229 0.11453976 0.10760175\n",
      " 0.10549781 0.10815279 0.11183469 0.1105072  0.1113087  0.10920476\n",
      " 0.1101315  0.10289292 0.10276769 0.10807765 0.10810269 0.11060739\n",
      " 0.11684408 0.12781465 0.13452724 0.13570445 0.13668128 0.13800877\n",
      " 0.12515967 0.13375078 0.14642455 0.14509706 0.14256731 0.1377583\n",
      " 0.14647464 0.16115216 0.17092048 0.16961803 0.181866   0.17257358\n",
      " 0.16904195 0.18149029 0.16385723 0.16105197 0.15757044 0.16568566\n",
      " 0.17232311 0.17392611 0.18407013 0.18146525 0.18169067 0.18067473\n",
      " 0.1823384  0.1828343  0.18278977 0.18252057 0.18216453 0.18178533\n",
      " 0.18141937 0.18109013 0.18081121 0.18058747]\n",
      "11 day output [[0.18041632]]\n",
      "12 day input [0.10399499 0.10194114 0.10459612 0.11591735 0.11268629 0.11438948\n",
      " 0.11724483 0.11887289 0.12485911 0.12090169 0.11829681 0.10552286\n",
      " 0.10697558 0.10339386 0.10567314 0.10507201 0.09823419 0.09041954\n",
      " 0.09164684 0.0977082  0.10016281 0.10038823 0.09650595 0.0878397\n",
      " 0.09014402 0.08681277 0.08969317 0.08090169 0.08583594 0.08806512\n",
      " 0.09129618 0.09031935 0.09009393 0.08683782 0.085335   0.09247339\n",
      " 0.09517846 0.09946149 0.10499687 0.10624922 0.10680025 0.10482154\n",
      " 0.10469631 0.1063995  0.10522229 0.11453976 0.10760175 0.10549781\n",
      " 0.10815279 0.11183469 0.1105072  0.1113087  0.10920476 0.1101315\n",
      " 0.10289292 0.10276769 0.10807765 0.10810269 0.11060739 0.11684408\n",
      " 0.12781465 0.13452724 0.13570445 0.13668128 0.13800877 0.12515967\n",
      " 0.13375078 0.14642455 0.14509706 0.14256731 0.1377583  0.14647464\n",
      " 0.16115216 0.17092048 0.16961803 0.181866   0.17257358 0.16904195\n",
      " 0.18149029 0.16385723 0.16105197 0.15757044 0.16568566 0.17232311\n",
      " 0.17392611 0.18407013 0.18146525 0.18169067 0.18067473 0.1823384\n",
      " 0.1828343  0.18278977 0.18252057 0.18216453 0.18178533 0.18141937\n",
      " 0.18109013 0.18081121 0.18058747 0.18041632]\n",
      "12 day output [[0.18028991]]\n",
      "13 day input [0.10194114 0.10459612 0.11591735 0.11268629 0.11438948 0.11724483\n",
      " 0.11887289 0.12485911 0.12090169 0.11829681 0.10552286 0.10697558\n",
      " 0.10339386 0.10567314 0.10507201 0.09823419 0.09041954 0.09164684\n",
      " 0.0977082  0.10016281 0.10038823 0.09650595 0.0878397  0.09014402\n",
      " 0.08681277 0.08969317 0.08090169 0.08583594 0.08806512 0.09129618\n",
      " 0.09031935 0.09009393 0.08683782 0.085335   0.09247339 0.09517846\n",
      " 0.09946149 0.10499687 0.10624922 0.10680025 0.10482154 0.10469631\n",
      " 0.1063995  0.10522229 0.11453976 0.10760175 0.10549781 0.10815279\n",
      " 0.11183469 0.1105072  0.1113087  0.10920476 0.1101315  0.10289292\n",
      " 0.10276769 0.10807765 0.10810269 0.11060739 0.11684408 0.12781465\n",
      " 0.13452724 0.13570445 0.13668128 0.13800877 0.12515967 0.13375078\n",
      " 0.14642455 0.14509706 0.14256731 0.1377583  0.14647464 0.16115216\n",
      " 0.17092048 0.16961803 0.181866   0.17257358 0.16904195 0.18149029\n",
      " 0.16385723 0.16105197 0.15757044 0.16568566 0.17232311 0.17392611\n",
      " 0.18407013 0.18146525 0.18169067 0.18067473 0.1823384  0.1828343\n",
      " 0.18278977 0.18252057 0.18216453 0.18178533 0.18141937 0.18109013\n",
      " 0.18081121 0.18058747 0.18041632 0.18028991]\n",
      "13 day output [[0.18019742]]\n",
      "14 day input [0.10459612 0.11591735 0.11268629 0.11438948 0.11724483 0.11887289\n",
      " 0.12485911 0.12090169 0.11829681 0.10552286 0.10697558 0.10339386\n",
      " 0.10567314 0.10507201 0.09823419 0.09041954 0.09164684 0.0977082\n",
      " 0.10016281 0.10038823 0.09650595 0.0878397  0.09014402 0.08681277\n",
      " 0.08969317 0.08090169 0.08583594 0.08806512 0.09129618 0.09031935\n",
      " 0.09009393 0.08683782 0.085335   0.09247339 0.09517846 0.09946149\n",
      " 0.10499687 0.10624922 0.10680025 0.10482154 0.10469631 0.1063995\n",
      " 0.10522229 0.11453976 0.10760175 0.10549781 0.10815279 0.11183469\n",
      " 0.1105072  0.1113087  0.10920476 0.1101315  0.10289292 0.10276769\n",
      " 0.10807765 0.10810269 0.11060739 0.11684408 0.12781465 0.13452724\n",
      " 0.13570445 0.13668128 0.13800877 0.12515967 0.13375078 0.14642455\n",
      " 0.14509706 0.14256731 0.1377583  0.14647464 0.16115216 0.17092048\n",
      " 0.16961803 0.181866   0.17257358 0.16904195 0.18149029 0.16385723\n",
      " 0.16105197 0.15757044 0.16568566 0.17232311 0.17392611 0.18407013\n",
      " 0.18146525 0.18169067 0.18067473 0.1823384  0.1828343  0.18278977\n",
      " 0.18252057 0.18216453 0.18178533 0.18141937 0.18109013 0.18081121\n",
      " 0.18058747 0.18041632 0.18028991 0.18019742]\n",
      "14 day output [[0.18012671]]\n",
      "15 day input [0.11591735 0.11268629 0.11438948 0.11724483 0.11887289 0.12485911\n",
      " 0.12090169 0.11829681 0.10552286 0.10697558 0.10339386 0.10567314\n",
      " 0.10507201 0.09823419 0.09041954 0.09164684 0.0977082  0.10016281\n",
      " 0.10038823 0.09650595 0.0878397  0.09014402 0.08681277 0.08969317\n",
      " 0.08090169 0.08583594 0.08806512 0.09129618 0.09031935 0.09009393\n",
      " 0.08683782 0.085335   0.09247339 0.09517846 0.09946149 0.10499687\n",
      " 0.10624922 0.10680025 0.10482154 0.10469631 0.1063995  0.10522229\n",
      " 0.11453976 0.10760175 0.10549781 0.10815279 0.11183469 0.1105072\n",
      " 0.1113087  0.10920476 0.1101315  0.10289292 0.10276769 0.10807765\n",
      " 0.10810269 0.11060739 0.11684408 0.12781465 0.13452724 0.13570445\n",
      " 0.13668128 0.13800877 0.12515967 0.13375078 0.14642455 0.14509706\n",
      " 0.14256731 0.1377583  0.14647464 0.16115216 0.17092048 0.16961803\n",
      " 0.181866   0.17257358 0.16904195 0.18149029 0.16385723 0.16105197\n",
      " 0.15757044 0.16568566 0.17232311 0.17392611 0.18407013 0.18146525\n",
      " 0.18169067 0.18067473 0.1823384  0.1828343  0.18278977 0.18252057\n",
      " 0.18216453 0.18178533 0.18141937 0.18109013 0.18081121 0.18058747\n",
      " 0.18041632 0.18028991 0.18019742 0.18012671]\n",
      "15 day output [[0.18006633]]\n",
      "16 day input [0.11268629 0.11438948 0.11724483 0.11887289 0.12485911 0.12090169\n",
      " 0.11829681 0.10552286 0.10697558 0.10339386 0.10567314 0.10507201\n",
      " 0.09823419 0.09041954 0.09164684 0.0977082  0.10016281 0.10038823\n",
      " 0.09650595 0.0878397  0.09014402 0.08681277 0.08969317 0.08090169\n",
      " 0.08583594 0.08806512 0.09129618 0.09031935 0.09009393 0.08683782\n",
      " 0.085335   0.09247339 0.09517846 0.09946149 0.10499687 0.10624922\n",
      " 0.10680025 0.10482154 0.10469631 0.1063995  0.10522229 0.11453976\n",
      " 0.10760175 0.10549781 0.10815279 0.11183469 0.1105072  0.1113087\n",
      " 0.10920476 0.1101315  0.10289292 0.10276769 0.10807765 0.10810269\n",
      " 0.11060739 0.11684408 0.12781465 0.13452724 0.13570445 0.13668128\n",
      " 0.13800877 0.12515967 0.13375078 0.14642455 0.14509706 0.14256731\n",
      " 0.1377583  0.14647464 0.16115216 0.17092048 0.16961803 0.181866\n",
      " 0.17257358 0.16904195 0.18149029 0.16385723 0.16105197 0.15757044\n",
      " 0.16568566 0.17232311 0.17392611 0.18407013 0.18146525 0.18169067\n",
      " 0.18067473 0.1823384  0.1828343  0.18278977 0.18252057 0.18216453\n",
      " 0.18178533 0.18141937 0.18109013 0.18081121 0.18058747 0.18041632\n",
      " 0.18028991 0.18019742 0.18012671 0.18006633]\n",
      "16 day output [[0.1800061]]\n",
      "17 day input [0.11438948 0.11724483 0.11887289 0.12485911 0.12090169 0.11829681\n",
      " 0.10552286 0.10697558 0.10339386 0.10567314 0.10507201 0.09823419\n",
      " 0.09041954 0.09164684 0.0977082  0.10016281 0.10038823 0.09650595\n",
      " 0.0878397  0.09014402 0.08681277 0.08969317 0.08090169 0.08583594\n",
      " 0.08806512 0.09129618 0.09031935 0.09009393 0.08683782 0.085335\n",
      " 0.09247339 0.09517846 0.09946149 0.10499687 0.10624922 0.10680025\n",
      " 0.10482154 0.10469631 0.1063995  0.10522229 0.11453976 0.10760175\n",
      " 0.10549781 0.10815279 0.11183469 0.1105072  0.1113087  0.10920476\n",
      " 0.1101315  0.10289292 0.10276769 0.10807765 0.10810269 0.11060739\n",
      " 0.11684408 0.12781465 0.13452724 0.13570445 0.13668128 0.13800877\n",
      " 0.12515967 0.13375078 0.14642455 0.14509706 0.14256731 0.1377583\n",
      " 0.14647464 0.16115216 0.17092048 0.16961803 0.181866   0.17257358\n",
      " 0.16904195 0.18149029 0.16385723 0.16105197 0.15757044 0.16568566\n",
      " 0.17232311 0.17392611 0.18407013 0.18146525 0.18169067 0.18067473\n",
      " 0.1823384  0.1828343  0.18278977 0.18252057 0.18216453 0.18178533\n",
      " 0.18141937 0.18109013 0.18081121 0.18058747 0.18041632 0.18028991\n",
      " 0.18019742 0.18012671 0.18006633 0.1800061 ]\n",
      "17 day output [[0.17993838]]\n",
      "18 day input [0.11724483 0.11887289 0.12485911 0.12090169 0.11829681 0.10552286\n",
      " 0.10697558 0.10339386 0.10567314 0.10507201 0.09823419 0.09041954\n",
      " 0.09164684 0.0977082  0.10016281 0.10038823 0.09650595 0.0878397\n",
      " 0.09014402 0.08681277 0.08969317 0.08090169 0.08583594 0.08806512\n",
      " 0.09129618 0.09031935 0.09009393 0.08683782 0.085335   0.09247339\n",
      " 0.09517846 0.09946149 0.10499687 0.10624922 0.10680025 0.10482154\n",
      " 0.10469631 0.1063995  0.10522229 0.11453976 0.10760175 0.10549781\n",
      " 0.10815279 0.11183469 0.1105072  0.1113087  0.10920476 0.1101315\n",
      " 0.10289292 0.10276769 0.10807765 0.10810269 0.11060739 0.11684408\n",
      " 0.12781465 0.13452724 0.13570445 0.13668128 0.13800877 0.12515967\n",
      " 0.13375078 0.14642455 0.14509706 0.14256731 0.1377583  0.14647464\n",
      " 0.16115216 0.17092048 0.16961803 0.181866   0.17257358 0.16904195\n",
      " 0.18149029 0.16385723 0.16105197 0.15757044 0.16568566 0.17232311\n",
      " 0.17392611 0.18407013 0.18146525 0.18169067 0.18067473 0.1823384\n",
      " 0.1828343  0.18278977 0.18252057 0.18216453 0.18178533 0.18141937\n",
      " 0.18109013 0.18081121 0.18058747 0.18041632 0.18028991 0.18019742\n",
      " 0.18012671 0.18006633 0.1800061  0.17993838]\n",
      "18 day output [[0.17985764]]\n",
      "19 day input [0.11887289 0.12485911 0.12090169 0.11829681 0.10552286 0.10697558\n",
      " 0.10339386 0.10567314 0.10507201 0.09823419 0.09041954 0.09164684\n",
      " 0.0977082  0.10016281 0.10038823 0.09650595 0.0878397  0.09014402\n",
      " 0.08681277 0.08969317 0.08090169 0.08583594 0.08806512 0.09129618\n",
      " 0.09031935 0.09009393 0.08683782 0.085335   0.09247339 0.09517846\n",
      " 0.09946149 0.10499687 0.10624922 0.10680025 0.10482154 0.10469631\n",
      " 0.1063995  0.10522229 0.11453976 0.10760175 0.10549781 0.10815279\n",
      " 0.11183469 0.1105072  0.1113087  0.10920476 0.1101315  0.10289292\n",
      " 0.10276769 0.10807765 0.10810269 0.11060739 0.11684408 0.12781465\n",
      " 0.13452724 0.13570445 0.13668128 0.13800877 0.12515967 0.13375078\n",
      " 0.14642455 0.14509706 0.14256731 0.1377583  0.14647464 0.16115216\n",
      " 0.17092048 0.16961803 0.181866   0.17257358 0.16904195 0.18149029\n",
      " 0.16385723 0.16105197 0.15757044 0.16568566 0.17232311 0.17392611\n",
      " 0.18407013 0.18146525 0.18169067 0.18067473 0.1823384  0.1828343\n",
      " 0.18278977 0.18252057 0.18216453 0.18178533 0.18141937 0.18109013\n",
      " 0.18081121 0.18058747 0.18041632 0.18028991 0.18019742 0.18012671\n",
      " 0.18006633 0.1800061  0.17993838 0.17985764]\n",
      "19 day output [[0.17976096]]\n",
      "20 day input [0.12485911 0.12090169 0.11829681 0.10552286 0.10697558 0.10339386\n",
      " 0.10567314 0.10507201 0.09823419 0.09041954 0.09164684 0.0977082\n",
      " 0.10016281 0.10038823 0.09650595 0.0878397  0.09014402 0.08681277\n",
      " 0.08969317 0.08090169 0.08583594 0.08806512 0.09129618 0.09031935\n",
      " 0.09009393 0.08683782 0.085335   0.09247339 0.09517846 0.09946149\n",
      " 0.10499687 0.10624922 0.10680025 0.10482154 0.10469631 0.1063995\n",
      " 0.10522229 0.11453976 0.10760175 0.10549781 0.10815279 0.11183469\n",
      " 0.1105072  0.1113087  0.10920476 0.1101315  0.10289292 0.10276769\n",
      " 0.10807765 0.10810269 0.11060739 0.11684408 0.12781465 0.13452724\n",
      " 0.13570445 0.13668128 0.13800877 0.12515967 0.13375078 0.14642455\n",
      " 0.14509706 0.14256731 0.1377583  0.14647464 0.16115216 0.17092048\n",
      " 0.16961803 0.181866   0.17257358 0.16904195 0.18149029 0.16385723\n",
      " 0.16105197 0.15757044 0.16568566 0.17232311 0.17392611 0.18407013\n",
      " 0.18146525 0.18169067 0.18067473 0.1823384  0.1828343  0.18278977\n",
      " 0.18252057 0.18216453 0.18178533 0.18141937 0.18109013 0.18081121\n",
      " 0.18058747 0.18041632 0.18028991 0.18019742 0.18012671 0.18006633\n",
      " 0.1800061  0.17993838 0.17985764 0.17976096]\n",
      "20 day output [[0.17964752]]\n",
      "21 day input [0.12090169 0.11829681 0.10552286 0.10697558 0.10339386 0.10567314\n",
      " 0.10507201 0.09823419 0.09041954 0.09164684 0.0977082  0.10016281\n",
      " 0.10038823 0.09650595 0.0878397  0.09014402 0.08681277 0.08969317\n",
      " 0.08090169 0.08583594 0.08806512 0.09129618 0.09031935 0.09009393\n",
      " 0.08683782 0.085335   0.09247339 0.09517846 0.09946149 0.10499687\n",
      " 0.10624922 0.10680025 0.10482154 0.10469631 0.1063995  0.10522229\n",
      " 0.11453976 0.10760175 0.10549781 0.10815279 0.11183469 0.1105072\n",
      " 0.1113087  0.10920476 0.1101315  0.10289292 0.10276769 0.10807765\n",
      " 0.10810269 0.11060739 0.11684408 0.12781465 0.13452724 0.13570445\n",
      " 0.13668128 0.13800877 0.12515967 0.13375078 0.14642455 0.14509706\n",
      " 0.14256731 0.1377583  0.14647464 0.16115216 0.17092048 0.16961803\n",
      " 0.181866   0.17257358 0.16904195 0.18149029 0.16385723 0.16105197\n",
      " 0.15757044 0.16568566 0.17232311 0.17392611 0.18407013 0.18146525\n",
      " 0.18169067 0.18067473 0.1823384  0.1828343  0.18278977 0.18252057\n",
      " 0.18216453 0.18178533 0.18141937 0.18109013 0.18081121 0.18058747\n",
      " 0.18041632 0.18028991 0.18019742 0.18012671 0.18006633 0.1800061\n",
      " 0.17993838 0.17985764 0.17976096 0.17964752]\n",
      "21 day output [[0.17951815]]\n",
      "22 day input [0.11829681 0.10552286 0.10697558 0.10339386 0.10567314 0.10507201\n",
      " 0.09823419 0.09041954 0.09164684 0.0977082  0.10016281 0.10038823\n",
      " 0.09650595 0.0878397  0.09014402 0.08681277 0.08969317 0.08090169\n",
      " 0.08583594 0.08806512 0.09129618 0.09031935 0.09009393 0.08683782\n",
      " 0.085335   0.09247339 0.09517846 0.09946149 0.10499687 0.10624922\n",
      " 0.10680025 0.10482154 0.10469631 0.1063995  0.10522229 0.11453976\n",
      " 0.10760175 0.10549781 0.10815279 0.11183469 0.1105072  0.1113087\n",
      " 0.10920476 0.1101315  0.10289292 0.10276769 0.10807765 0.10810269\n",
      " 0.11060739 0.11684408 0.12781465 0.13452724 0.13570445 0.13668128\n",
      " 0.13800877 0.12515967 0.13375078 0.14642455 0.14509706 0.14256731\n",
      " 0.1377583  0.14647464 0.16115216 0.17092048 0.16961803 0.181866\n",
      " 0.17257358 0.16904195 0.18149029 0.16385723 0.16105197 0.15757044\n",
      " 0.16568566 0.17232311 0.17392611 0.18407013 0.18146525 0.18169067\n",
      " 0.18067473 0.1823384  0.1828343  0.18278977 0.18252057 0.18216453\n",
      " 0.18178533 0.18141937 0.18109013 0.18081121 0.18058747 0.18041632\n",
      " 0.18028991 0.18019742 0.18012671 0.18006633 0.1800061  0.17993838\n",
      " 0.17985764 0.17976096 0.17964752 0.17951815]\n",
      "22 day output [[0.17937508]]\n",
      "23 day input [0.10552286 0.10697558 0.10339386 0.10567314 0.10507201 0.09823419\n",
      " 0.09041954 0.09164684 0.0977082  0.10016281 0.10038823 0.09650595\n",
      " 0.0878397  0.09014402 0.08681277 0.08969317 0.08090169 0.08583594\n",
      " 0.08806512 0.09129618 0.09031935 0.09009393 0.08683782 0.085335\n",
      " 0.09247339 0.09517846 0.09946149 0.10499687 0.10624922 0.10680025\n",
      " 0.10482154 0.10469631 0.1063995  0.10522229 0.11453976 0.10760175\n",
      " 0.10549781 0.10815279 0.11183469 0.1105072  0.1113087  0.10920476\n",
      " 0.1101315  0.10289292 0.10276769 0.10807765 0.10810269 0.11060739\n",
      " 0.11684408 0.12781465 0.13452724 0.13570445 0.13668128 0.13800877\n",
      " 0.12515967 0.13375078 0.14642455 0.14509706 0.14256731 0.1377583\n",
      " 0.14647464 0.16115216 0.17092048 0.16961803 0.181866   0.17257358\n",
      " 0.16904195 0.18149029 0.16385723 0.16105197 0.15757044 0.16568566\n",
      " 0.17232311 0.17392611 0.18407013 0.18146525 0.18169067 0.18067473\n",
      " 0.1823384  0.1828343  0.18278977 0.18252057 0.18216453 0.18178533\n",
      " 0.18141937 0.18109013 0.18081121 0.18058747 0.18041632 0.18028991\n",
      " 0.18019742 0.18012671 0.18006633 0.1800061  0.17993838 0.17985764\n",
      " 0.17976096 0.17964752 0.17951815 0.17937508]\n",
      "23 day output [[0.1792211]]\n",
      "24 day input [0.10697558 0.10339386 0.10567314 0.10507201 0.09823419 0.09041954\n",
      " 0.09164684 0.0977082  0.10016281 0.10038823 0.09650595 0.0878397\n",
      " 0.09014402 0.08681277 0.08969317 0.08090169 0.08583594 0.08806512\n",
      " 0.09129618 0.09031935 0.09009393 0.08683782 0.085335   0.09247339\n",
      " 0.09517846 0.09946149 0.10499687 0.10624922 0.10680025 0.10482154\n",
      " 0.10469631 0.1063995  0.10522229 0.11453976 0.10760175 0.10549781\n",
      " 0.10815279 0.11183469 0.1105072  0.1113087  0.10920476 0.1101315\n",
      " 0.10289292 0.10276769 0.10807765 0.10810269 0.11060739 0.11684408\n",
      " 0.12781465 0.13452724 0.13570445 0.13668128 0.13800877 0.12515967\n",
      " 0.13375078 0.14642455 0.14509706 0.14256731 0.1377583  0.14647464\n",
      " 0.16115216 0.17092048 0.16961803 0.181866   0.17257358 0.16904195\n",
      " 0.18149029 0.16385723 0.16105197 0.15757044 0.16568566 0.17232311\n",
      " 0.17392611 0.18407013 0.18146525 0.18169067 0.18067473 0.1823384\n",
      " 0.1828343  0.18278977 0.18252057 0.18216453 0.18178533 0.18141937\n",
      " 0.18109013 0.18081121 0.18058747 0.18041632 0.18028991 0.18019742\n",
      " 0.18012671 0.18006633 0.1800061  0.17993838 0.17985764 0.17976096\n",
      " 0.17964752 0.17951815 0.17937508 0.17922109]\n",
      "24 day output [[0.17905955]]\n",
      "25 day input [0.10339386 0.10567314 0.10507201 0.09823419 0.09041954 0.09164684\n",
      " 0.0977082  0.10016281 0.10038823 0.09650595 0.0878397  0.09014402\n",
      " 0.08681277 0.08969317 0.08090169 0.08583594 0.08806512 0.09129618\n",
      " 0.09031935 0.09009393 0.08683782 0.085335   0.09247339 0.09517846\n",
      " 0.09946149 0.10499687 0.10624922 0.10680025 0.10482154 0.10469631\n",
      " 0.1063995  0.10522229 0.11453976 0.10760175 0.10549781 0.10815279\n",
      " 0.11183469 0.1105072  0.1113087  0.10920476 0.1101315  0.10289292\n",
      " 0.10276769 0.10807765 0.10810269 0.11060739 0.11684408 0.12781465\n",
      " 0.13452724 0.13570445 0.13668128 0.13800877 0.12515967 0.13375078\n",
      " 0.14642455 0.14509706 0.14256731 0.1377583  0.14647464 0.16115216\n",
      " 0.17092048 0.16961803 0.181866   0.17257358 0.16904195 0.18149029\n",
      " 0.16385723 0.16105197 0.15757044 0.16568566 0.17232311 0.17392611\n",
      " 0.18407013 0.18146525 0.18169067 0.18067473 0.1823384  0.1828343\n",
      " 0.18278977 0.18252057 0.18216453 0.18178533 0.18141937 0.18109013\n",
      " 0.18081121 0.18058747 0.18041632 0.18028991 0.18019742 0.18012671\n",
      " 0.18006633 0.1800061  0.17993838 0.17985764 0.17976096 0.17964752\n",
      " 0.17951815 0.17937508 0.17922109 0.17905955]\n",
      "25 day output [[0.17889374]]\n",
      "26 day input [0.10567314 0.10507201 0.09823419 0.09041954 0.09164684 0.0977082\n",
      " 0.10016281 0.10038823 0.09650595 0.0878397  0.09014402 0.08681277\n",
      " 0.08969317 0.08090169 0.08583594 0.08806512 0.09129618 0.09031935\n",
      " 0.09009393 0.08683782 0.085335   0.09247339 0.09517846 0.09946149\n",
      " 0.10499687 0.10624922 0.10680025 0.10482154 0.10469631 0.1063995\n",
      " 0.10522229 0.11453976 0.10760175 0.10549781 0.10815279 0.11183469\n",
      " 0.1105072  0.1113087  0.10920476 0.1101315  0.10289292 0.10276769\n",
      " 0.10807765 0.10810269 0.11060739 0.11684408 0.12781465 0.13452724\n",
      " 0.13570445 0.13668128 0.13800877 0.12515967 0.13375078 0.14642455\n",
      " 0.14509706 0.14256731 0.1377583  0.14647464 0.16115216 0.17092048\n",
      " 0.16961803 0.181866   0.17257358 0.16904195 0.18149029 0.16385723\n",
      " 0.16105197 0.15757044 0.16568566 0.17232311 0.17392611 0.18407013\n",
      " 0.18146525 0.18169067 0.18067473 0.1823384  0.1828343  0.18278977\n",
      " 0.18252057 0.18216453 0.18178533 0.18141937 0.18109013 0.18081121\n",
      " 0.18058747 0.18041632 0.18028991 0.18019742 0.18012671 0.18006633\n",
      " 0.1800061  0.17993838 0.17985764 0.17976096 0.17964752 0.17951815\n",
      " 0.17937508 0.17922109 0.17905955 0.17889374]\n",
      "26 day output [[0.17872658]]\n",
      "27 day input [0.10507201 0.09823419 0.09041954 0.09164684 0.0977082  0.10016281\n",
      " 0.10038823 0.09650595 0.0878397  0.09014402 0.08681277 0.08969317\n",
      " 0.08090169 0.08583594 0.08806512 0.09129618 0.09031935 0.09009393\n",
      " 0.08683782 0.085335   0.09247339 0.09517846 0.09946149 0.10499687\n",
      " 0.10624922 0.10680025 0.10482154 0.10469631 0.1063995  0.10522229\n",
      " 0.11453976 0.10760175 0.10549781 0.10815279 0.11183469 0.1105072\n",
      " 0.1113087  0.10920476 0.1101315  0.10289292 0.10276769 0.10807765\n",
      " 0.10810269 0.11060739 0.11684408 0.12781465 0.13452724 0.13570445\n",
      " 0.13668128 0.13800877 0.12515967 0.13375078 0.14642455 0.14509706\n",
      " 0.14256731 0.1377583  0.14647464 0.16115216 0.17092048 0.16961803\n",
      " 0.181866   0.17257358 0.16904195 0.18149029 0.16385723 0.16105197\n",
      " 0.15757044 0.16568566 0.17232311 0.17392611 0.18407013 0.18146525\n",
      " 0.18169067 0.18067473 0.1823384  0.1828343  0.18278977 0.18252057\n",
      " 0.18216453 0.18178533 0.18141937 0.18109013 0.18081121 0.18058747\n",
      " 0.18041632 0.18028991 0.18019742 0.18012671 0.18006633 0.1800061\n",
      " 0.17993838 0.17985764 0.17976096 0.17964752 0.17951815 0.17937508\n",
      " 0.17922109 0.17905955 0.17889374 0.17872658]\n",
      "27 day output [[0.17856064]]\n",
      "28 day input [0.09823419 0.09041954 0.09164684 0.0977082  0.10016281 0.10038823\n",
      " 0.09650595 0.0878397  0.09014402 0.08681277 0.08969317 0.08090169\n",
      " 0.08583594 0.08806512 0.09129618 0.09031935 0.09009393 0.08683782\n",
      " 0.085335   0.09247339 0.09517846 0.09946149 0.10499687 0.10624922\n",
      " 0.10680025 0.10482154 0.10469631 0.1063995  0.10522229 0.11453976\n",
      " 0.10760175 0.10549781 0.10815279 0.11183469 0.1105072  0.1113087\n",
      " 0.10920476 0.1101315  0.10289292 0.10276769 0.10807765 0.10810269\n",
      " 0.11060739 0.11684408 0.12781465 0.13452724 0.13570445 0.13668128\n",
      " 0.13800877 0.12515967 0.13375078 0.14642455 0.14509706 0.14256731\n",
      " 0.1377583  0.14647464 0.16115216 0.17092048 0.16961803 0.181866\n",
      " 0.17257358 0.16904195 0.18149029 0.16385723 0.16105197 0.15757044\n",
      " 0.16568566 0.17232311 0.17392611 0.18407013 0.18146525 0.18169067\n",
      " 0.18067473 0.1823384  0.1828343  0.18278977 0.18252057 0.18216453\n",
      " 0.18178533 0.18141937 0.18109013 0.18081121 0.18058747 0.18041632\n",
      " 0.18028991 0.18019742 0.18012671 0.18006633 0.1800061  0.17993838\n",
      " 0.17985764 0.17976096 0.17964752 0.17951815 0.17937508 0.17922109\n",
      " 0.17905955 0.17889374 0.17872658 0.17856064]\n",
      "28 day output [[0.17839783]]\n",
      "29 day input [0.09041954 0.09164684 0.0977082  0.10016281 0.10038823 0.09650595\n",
      " 0.0878397  0.09014402 0.08681277 0.08969317 0.08090169 0.08583594\n",
      " 0.08806512 0.09129618 0.09031935 0.09009393 0.08683782 0.085335\n",
      " 0.09247339 0.09517846 0.09946149 0.10499687 0.10624922 0.10680025\n",
      " 0.10482154 0.10469631 0.1063995  0.10522229 0.11453976 0.10760175\n",
      " 0.10549781 0.10815279 0.11183469 0.1105072  0.1113087  0.10920476\n",
      " 0.1101315  0.10289292 0.10276769 0.10807765 0.10810269 0.11060739\n",
      " 0.11684408 0.12781465 0.13452724 0.13570445 0.13668128 0.13800877\n",
      " 0.12515967 0.13375078 0.14642455 0.14509706 0.14256731 0.1377583\n",
      " 0.14647464 0.16115216 0.17092048 0.16961803 0.181866   0.17257358\n",
      " 0.16904195 0.18149029 0.16385723 0.16105197 0.15757044 0.16568566\n",
      " 0.17232311 0.17392611 0.18407013 0.18146525 0.18169067 0.18067473\n",
      " 0.1823384  0.1828343  0.18278977 0.18252057 0.18216453 0.18178533\n",
      " 0.18141937 0.18109013 0.18081121 0.18058747 0.18041632 0.18028991\n",
      " 0.18019742 0.18012671 0.18006633 0.1800061  0.17993838 0.17985764\n",
      " 0.17976096 0.17964752 0.17951815 0.17937508 0.17922109 0.17905955\n",
      " 0.17889374 0.17872658 0.17856064 0.17839783]\n",
      "29 day output [[0.17823954]]\n",
      "[[0.1806747317314148], [0.1823384016752243], [0.18283429741859436], [0.18278977274894714], [0.1825205683708191], [0.1821645349264145], [0.18178533017635345], [0.18141937255859375], [0.18109013140201569], [0.18081121146678925], [0.18058747053146362], [0.1804163157939911], [0.18028990924358368], [0.18019741773605347], [0.18012671172618866], [0.1800663322210312], [0.18000610172748566], [0.17993837594985962], [0.17985764145851135], [0.17976096272468567], [0.1796475201845169], [0.17951814830303192], [0.1793750822544098], [0.17922109365463257], [0.17905955016613007], [0.17889374494552612], [0.17872658371925354], [0.17856064438819885], [0.17839783430099487], [0.17823953926563263]]\n"
     ]
    }
   ],
   "source": [
    "# demonstrate prediction for next 10 days\n",
    "from numpy import array\n",
    "\n",
    "lst_output=[]\n",
    "n_steps=100\n",
    "i=0\n",
    "while(i<30):\n",
    "    \n",
    "    if(len(temp_input)>100):\n",
    "        #print(temp_input)\n",
    "        x_input=np.array(temp_input[1:])\n",
    "        print(\"{} day input {}\".format(i,x_input))\n",
    "        x_input=x_input.reshape(1,-1)\n",
    "        x_input = x_input.reshape((1, n_steps, 1))\n",
    "        #print(x_input)\n",
    "        yhat = model.predict(x_input, verbose=0)\n",
    "        print(\"{} day output {}\".format(i,yhat))\n",
    "        temp_input.extend(yhat[0].tolist())\n",
    "        temp_input=temp_input[1:]\n",
    "        #print(temp_input)\n",
    "        lst_output.extend(yhat.tolist())\n",
    "        i=i+1\n",
    "    else:\n",
    "        x_input = x_input.reshape((1, n_steps,1))\n",
    "        yhat = model.predict(x_input, verbose=0)\n",
    "        print(yhat[0])\n",
    "        temp_input.extend(yhat[0].tolist())\n",
    "        print(len(temp_input))\n",
    "        lst_output.extend(yhat.tolist())\n",
    "        i=i+1\n",
    "    \n",
    "\n",
    "print(lst_output)"
   ]
  },
  {
   "cell_type": "code",
   "execution_count": 41,
   "metadata": {},
   "outputs": [],
   "source": [
    "day_new=np.arange(1,101)\n",
    "day_pred=np.arange(101,131)"
   ]
  },
  {
   "cell_type": "code",
   "execution_count": 42,
   "metadata": {},
   "outputs": [],
   "source": [
    "import matplotlib.pyplot as plt"
   ]
  },
  {
   "cell_type": "code",
   "execution_count": 43,
   "metadata": {},
   "outputs": [
    {
     "data": {
      "text/plain": [
       "1257"
      ]
     },
     "execution_count": 43,
     "metadata": {},
     "output_type": "execute_result"
    }
   ],
   "source": [
    "len(df1)"
   ]
  },
  {
   "cell_type": "code",
   "execution_count": null,
   "metadata": {},
   "outputs": [],
   "source": []
  },
  {
   "cell_type": "code",
   "execution_count": 44,
   "metadata": {},
   "outputs": [
    {
     "data": {
      "text/plain": [
       "[<matplotlib.lines.Line2D at 0x21256f42130>]"
      ]
     },
     "execution_count": 44,
     "metadata": {},
     "output_type": "execute_result"
    },
    {
     "data": {
      "image/png": "[encoded data removed]",
      "text/plain": [
       "<Figure size 432x288 with 1 Axes>"
      ]
     },
     "metadata": {
      "needs_background": "light"
     },
     "output_type": "display_data"
    }
   ],
   "source": [
    "plt.plot(day_new,scaler.inverse_transform(df1[1157:]))\n",
    "plt.plot(day_pred,scaler.inverse_transform(lst_output))"
   ]
  },
  {
   "cell_type": "code",
   "execution_count": 45,
   "metadata": {},
   "outputs": [
    {
     "data": {
      "text/plain": [
       "[<matplotlib.lines.Line2D at 0x21256ec6b80>]"
      ]
     },
     "execution_count": 45,
     "metadata": {},
     "output_type": "execute_result"
    },
    {
     "data": {
      "image/png": "[encoded data removed]",
      "text/plain": [
       "<Figure size 432x288 with 1 Axes>"
      ]
     },
     "metadata": {
      "needs_background": "light"
     },
     "output_type": "display_data"
    }
   ],
   "source": [
    "df3=df1.tolist()\n",
    "df3.extend(lst_output)\n",
    "plt.plot(df3[1200:])"
   ]
  },
  {
   "cell_type": "code",
   "execution_count": null,
   "metadata": {},
   "outputs": [],
   "source": []
  },
  {
   "cell_type": "code",
   "execution_count": null,
   "metadata": {},
   "outputs": [],
   "source": []
  }
 ],
 "metadata": {
  "kernelspec": {
   "display_name": "Python 3",
   "language": "python",
   "name": "python3"
  },
  "language_info": {
   "codemirror_mode": {
    "name": "ipython",
    "version": 3
   },
   "file_extension": ".py",
   "mimetype": "text/x-python",
   "name": "python",
   "nbconvert_exporter": "python",
   "pygments_lexer": "ipython3",
   "version": "3.8.5"
  }
 },
 "nbformat": 4,
 "nbformat_minor": 4
}
